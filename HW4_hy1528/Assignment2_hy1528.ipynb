{
 "cells": [
  {
   "cell_type": "code",
   "execution_count": 6,
   "metadata": {
    "collapsed": false,
    "scrolled": true
   },
   "outputs": [
    {
     "name": "stdout",
     "output_type": "stream",
     "text": [
      "Populating the interactive namespace from numpy and matplotlib\n"
     ]
    }
   ],
   "source": [
    "from __future__  import print_function, division\n",
    "import pylab as pl\n",
    "import pandas as pd\n",
    "import numpy as np\n",
    "import os\n",
    "import math\n",
    "\n",
    "import matplotlib.pyplot as plt \n",
    "%pylab inline\n",
    "\n",
    "if os.getenv ('PUI2018') is None:\n",
    "    print (\"Must set env variable PUI2016\")\n",
    "\n",
    "if os.getenv ('PUIDATA') is None:\n",
    "    print (\"Must set env variable PUIDATA\")\n",
    "\n",
    "\n",
    "import os\n",
    "import json\n",
    "# s = json.load( open(os.getenv('PUI2018') + \"/fbb_matplotlibrc.json\") )\n",
    "# pl.rcParams.update(s)\n"
   ]
  },
  {
   "cell_type": "code",
   "execution_count": 7,
   "metadata": {},
   "outputs": [
    {
     "data": {
      "text/plain": [
       "environ({'SHELL': '/bin/zsh', 'TMPDIR': '/var/folders/2w/52wsw6cx0l5_d4yqld7z18gw0000gn/T/', 'CONDA_SHLVL': '1', 'Apple_PubSub_Socket_Render': '/private/tmp/com.apple.launchd.0yublJrDn6/Render', 'CONDA_PROMPT_MODIFIER': '(base) ', 'LC_ALL': 'en_US.UTF-8', 'USER': 'yanghaoming', 'CONDA_EXE': '/anaconda3/bin/conda', 'SSH_AUTH_SOCK': '/private/tmp/com.apple.launchd.wWkywFJWHU/Listeners', '__CF_USER_TEXT_ENCODING': '0x1F5:0x19:0x34', 'CONDA_ROOT': '/anaconda3', 'PATH': '/anaconda3/bin:/anaconda3/bin:/usr/bin:/bin:/usr/sbin:/sbin', 'CONDA_PREFIX': '/anaconda3', 'PWD': '/Users/yanghaoming', 'LANG': 'en_US.UTF-8', 'XPC_FLAGS': '0x0', 'XPC_SERVICE_NAME': '0', 'SHLVL': '3', 'HOME': '/Users/yanghaoming', 'CONDA_PYTHON_EXE': '/anaconda3/bin/python', 'LOGNAME': 'yanghaoming', 'CONDA_DEFAULT_ENV': 'base', '_': '/anaconda3/python.app/Contents/MacOS/python', 'JPY_PARENT_PID': '61775', 'TERM': 'xterm-color', 'CLICOLOR': '1', 'PAGER': 'cat', 'GIT_PAGER': 'cat', 'MPLBACKEND': 'module://ipykernel.pylab.backend_inline', 'PUI2018': '/Users/yanghaoming/Desktop/Data_science/PUI2018', 'PUIDATA': '/Users/yanghaoming/Desktop/Data_science/PUI2018/PUIDATA'})"
      ]
     },
     "execution_count": 7,
     "metadata": {},
     "output_type": "execute_result"
    }
   ],
   "source": [
    "# os.environ['PUI2018']=\"/Users/yanghaoming/Desktop/Data_science/PUI2018\"\n",
    "# os.environ['PUIDATA']=\"/Users/yanghaoming/Desktop/Data_science/PUI2018/PUIDATA\"\n",
    "# os.environ"
   ]
  },
  {
   "cell_type": "code",
   "execution_count": 36,
   "metadata": {
    "collapsed": true
   },
   "outputs": [],
   "source": [
    "### A function to download the data: simple bash commands can be run by preceding them with !\n",
    "### but more complex command lines with variable arguments need to be build as strng and run with os.system\n",
    "### this code cell does a lot of things: looks for existing files, download a file if none is there, unzips it, moves it.\n",
    "### you do not have to have a code cell this complicated. \n",
    "### As long as \n",
    "### 1) your research is reproducible: we can access the same file as you without having to ask you for the file\n",
    "### 2) and your data is stored in a directory pointed to by the env variable PUIDATA \n",
    "### you will be fine. We already explored how to download data in other notebooks!\n",
    "\n",
    "def getCitiBikeCSV(datestring):\n",
    "    print (\"Downloading\", datestring)\n",
    "    ### First I will heck that it is not already there\n",
    "    if not os.path.isfile(os.getenv(\"PUIDATA\") + \"/\" + datestring + \"-citibike-tripdata.csv\"):\n",
    "        if os.path.isfile(datestring + \"-citibike-tripdata.csv\"):\n",
    "            # if in the current dir just move it\n",
    "            if os.system(\"mv \" + datestring + \"-citibike-tripdata.csv \" + os.getenv(\"PUIDATA\")):\n",
    "                print (\"Error moving file!, Please check!\")\n",
    "        #otherwise start looking for the zip file\n",
    "        else:\n",
    "            if not os.path.isfile(os.getenv(\"PUIDATA\") + \"/\" + datestring + \"-citibike-tripdata.csv.zip\"):\n",
    "                if not os.path.isfile(datestring + \"-citibike-tripdata.csv.zip\"):\n",
    "                    os.system(\"curl -O https://s3.amazonaws.com/tripdata/\" + datestring + \"-citibike-tripdata.csv.zip\")\n",
    "                ###  To move it I use the os.system() functions to run bash commands with arguments\n",
    "                os.system(\"mv \" + datestring + \"-citibike-tripdata.csv.zip \" + os.getenv(\"PUIDATA\"))\n",
    "            ### unzip the csv \n",
    "            os.system(\"unzip \" + os.getenv(\"PUIDATA\") + \"/\" + datestring + \"-citibike-tripdata.csv.zip\")\n",
    "            ## NOTE: old csv citibike data had a different name structure. \n",
    "            if '2014' in datestring:\n",
    "                os.system(\"mv \" + datestring[:4] + '-' +  datestring[4:] + \n",
    "                          \"\\ -\\ Citi\\ Bike\\ trip\\ data.csv \" + datestring + \"-citibike-tripdata.csv\")\n",
    "            os.system(\"mv \" + datestring + \"-citibike-tripdata.csv \" + os.getenv(\"PUIDATA\"))\n",
    "    ### One final check:\n",
    "    if not os.path.isfile(os.getenv(\"PUIDATA\") + \"/\" + datestring + \"-citibike-tripdata.csv\"):\n",
    "        print (\"WARNING!!! something is wrong: the file is not there!\")\n",
    "\n",
    "    else:\n",
    "        print (\"file in place, you can continue\")"
   ]
  },
  {
   "cell_type": "code",
   "execution_count": 37,
   "metadata": {},
   "outputs": [
    {
     "name": "stdout",
     "output_type": "stream",
     "text": [
      "Downloading 201808\n",
      "file in place, you can continue\n"
     ]
    }
   ],
   "source": [
    "datestring=\"201808\"\n",
    "getCitiBikeCSV(datestring)"
   ]
  },
  {
   "cell_type": "code",
   "execution_count": 38,
   "metadata": {
    "collapsed": false
   },
   "outputs": [
    {
     "data": {
      "text/html": [
       "<div>\n",
       "<style scoped>\n",
       "    .dataframe tbody tr th:only-of-type {\n",
       "        vertical-align: middle;\n",
       "    }\n",
       "\n",
       "    .dataframe tbody tr th {\n",
       "        vertical-align: top;\n",
       "    }\n",
       "\n",
       "    .dataframe thead th {\n",
       "        text-align: right;\n",
       "    }\n",
       "</style>\n",
       "<table border=\"1\" class=\"dataframe\">\n",
       "  <thead>\n",
       "    <tr style=\"text-align: right;\">\n",
       "      <th></th>\n",
       "      <th>tripduration</th>\n",
       "      <th>starttime</th>\n",
       "      <th>stoptime</th>\n",
       "      <th>start station id</th>\n",
       "      <th>start station name</th>\n",
       "      <th>start station latitude</th>\n",
       "      <th>start station longitude</th>\n",
       "      <th>end station id</th>\n",
       "      <th>end station name</th>\n",
       "      <th>end station latitude</th>\n",
       "      <th>end station longitude</th>\n",
       "      <th>bikeid</th>\n",
       "      <th>usertype</th>\n",
       "      <th>birth year</th>\n",
       "      <th>gender</th>\n",
       "      <th>date</th>\n",
       "    </tr>\n",
       "  </thead>\n",
       "  <tbody>\n",
       "    <tr>\n",
       "      <th>0</th>\n",
       "      <td>681</td>\n",
       "      <td>2018-08-01 00:00:07.3210</td>\n",
       "      <td>2018-08-01 00:11:28.9920</td>\n",
       "      <td>3162.0</td>\n",
       "      <td>W 78 St &amp; Broadway</td>\n",
       "      <td>40.783400</td>\n",
       "      <td>-73.980931</td>\n",
       "      <td>3383.0</td>\n",
       "      <td>Cathedral Pkwy &amp; Broadway</td>\n",
       "      <td>40.804213</td>\n",
       "      <td>-73.966991</td>\n",
       "      <td>27770</td>\n",
       "      <td>Subscriber</td>\n",
       "      <td>1986</td>\n",
       "      <td>1</td>\n",
       "      <td>2018-08-01 00:00:07.321</td>\n",
       "    </tr>\n",
       "    <tr>\n",
       "      <th>1</th>\n",
       "      <td>625</td>\n",
       "      <td>2018-08-01 00:00:19.7480</td>\n",
       "      <td>2018-08-01 00:10:45.0290</td>\n",
       "      <td>3260.0</td>\n",
       "      <td>Mercer St &amp; Bleecker St</td>\n",
       "      <td>40.727064</td>\n",
       "      <td>-73.996621</td>\n",
       "      <td>2012.0</td>\n",
       "      <td>E 27 St &amp; 1 Ave</td>\n",
       "      <td>40.739445</td>\n",
       "      <td>-73.976806</td>\n",
       "      <td>25938</td>\n",
       "      <td>Subscriber</td>\n",
       "      <td>1969</td>\n",
       "      <td>1</td>\n",
       "      <td>2018-08-01 00:00:19.748</td>\n",
       "    </tr>\n",
       "    <tr>\n",
       "      <th>2</th>\n",
       "      <td>1319</td>\n",
       "      <td>2018-08-01 00:00:21.1750</td>\n",
       "      <td>2018-08-01 00:22:20.6370</td>\n",
       "      <td>403.0</td>\n",
       "      <td>E 2 St &amp; 2 Ave</td>\n",
       "      <td>40.725029</td>\n",
       "      <td>-73.990697</td>\n",
       "      <td>285.0</td>\n",
       "      <td>Broadway &amp; E 14 St</td>\n",
       "      <td>40.734546</td>\n",
       "      <td>-73.990741</td>\n",
       "      <td>28679</td>\n",
       "      <td>Subscriber</td>\n",
       "      <td>1970</td>\n",
       "      <td>1</td>\n",
       "      <td>2018-08-01 00:00:21.175</td>\n",
       "    </tr>\n",
       "    <tr>\n",
       "      <th>3</th>\n",
       "      <td>220</td>\n",
       "      <td>2018-08-01 00:00:26.4700</td>\n",
       "      <td>2018-08-01 00:04:06.8190</td>\n",
       "      <td>3637.0</td>\n",
       "      <td>Fulton St &amp; Waverly Ave</td>\n",
       "      <td>40.683239</td>\n",
       "      <td>-73.965996</td>\n",
       "      <td>399.0</td>\n",
       "      <td>Lafayette Ave &amp; St James Pl</td>\n",
       "      <td>40.688515</td>\n",
       "      <td>-73.964763</td>\n",
       "      <td>28075</td>\n",
       "      <td>Subscriber</td>\n",
       "      <td>1982</td>\n",
       "      <td>1</td>\n",
       "      <td>2018-08-01 00:00:26.470</td>\n",
       "    </tr>\n",
       "    <tr>\n",
       "      <th>4</th>\n",
       "      <td>398</td>\n",
       "      <td>2018-08-01 00:00:30.2910</td>\n",
       "      <td>2018-08-01 00:07:09.2810</td>\n",
       "      <td>3662.0</td>\n",
       "      <td>31 Ave &amp; Steinway St</td>\n",
       "      <td>40.761294</td>\n",
       "      <td>-73.916917</td>\n",
       "      <td>3517.0</td>\n",
       "      <td>31 St &amp; Hoyt Ave N</td>\n",
       "      <td>40.771153</td>\n",
       "      <td>-73.917007</td>\n",
       "      <td>25002</td>\n",
       "      <td>Subscriber</td>\n",
       "      <td>1987</td>\n",
       "      <td>1</td>\n",
       "      <td>2018-08-01 00:00:30.291</td>\n",
       "    </tr>\n",
       "  </tbody>\n",
       "</table>\n",
       "</div>"
      ],
      "text/plain": [
       "   tripduration                 starttime                  stoptime  \\\n",
       "0           681  2018-08-01 00:00:07.3210  2018-08-01 00:11:28.9920   \n",
       "1           625  2018-08-01 00:00:19.7480  2018-08-01 00:10:45.0290   \n",
       "2          1319  2018-08-01 00:00:21.1750  2018-08-01 00:22:20.6370   \n",
       "3           220  2018-08-01 00:00:26.4700  2018-08-01 00:04:06.8190   \n",
       "4           398  2018-08-01 00:00:30.2910  2018-08-01 00:07:09.2810   \n",
       "\n",
       "   start station id       start station name  start station latitude  \\\n",
       "0            3162.0       W 78 St & Broadway               40.783400   \n",
       "1            3260.0  Mercer St & Bleecker St               40.727064   \n",
       "2             403.0           E 2 St & 2 Ave               40.725029   \n",
       "3            3637.0  Fulton St & Waverly Ave               40.683239   \n",
       "4            3662.0     31 Ave & Steinway St               40.761294   \n",
       "\n",
       "   start station longitude  end station id             end station name  \\\n",
       "0               -73.980931          3383.0    Cathedral Pkwy & Broadway   \n",
       "1               -73.996621          2012.0              E 27 St & 1 Ave   \n",
       "2               -73.990697           285.0           Broadway & E 14 St   \n",
       "3               -73.965996           399.0  Lafayette Ave & St James Pl   \n",
       "4               -73.916917          3517.0           31 St & Hoyt Ave N   \n",
       "\n",
       "   end station latitude  end station longitude  bikeid    usertype  \\\n",
       "0             40.804213             -73.966991   27770  Subscriber   \n",
       "1             40.739445             -73.976806   25938  Subscriber   \n",
       "2             40.734546             -73.990741   28679  Subscriber   \n",
       "3             40.688515             -73.964763   28075  Subscriber   \n",
       "4             40.771153             -73.917007   25002  Subscriber   \n",
       "\n",
       "   birth year  gender                    date  \n",
       "0        1986       1 2018-08-01 00:00:07.321  \n",
       "1        1969       1 2018-08-01 00:00:19.748  \n",
       "2        1970       1 2018-08-01 00:00:21.175  \n",
       "3        1982       1 2018-08-01 00:00:26.470  \n",
       "4        1987       1 2018-08-01 00:00:30.291  "
      ]
     },
     "execution_count": 38,
     "metadata": {},
     "output_type": "execute_result"
    }
   ],
   "source": [
    "df = pd.read_csv(os.getenv(\"PUIDATA\") + \"/\" + datestring + '-citibike-tripdata.csv')\n",
    "df['date'] = pd.to_datetime(df['starttime'])\n",
    "df.head()"
   ]
  },
  {
   "cell_type": "code",
   "execution_count": 39,
   "metadata": {
    "collapsed": false
   },
   "outputs": [
    {
     "data": {
      "text/plain": [
       "Index(['tripduration', 'starttime', 'stoptime', 'start station id',\n",
       "       'start station name', 'start station latitude',\n",
       "       'start station longitude', 'end station id', 'end station name',\n",
       "       'end station latitude', 'end station longitude', 'bikeid', 'usertype',\n",
       "       'birth year', 'gender', 'date'],\n",
       "      dtype='object')"
      ]
     },
     "execution_count": 39,
     "metadata": {},
     "output_type": "execute_result"
    }
   ],
   "source": [
    "df.columns"
   ]
  },
  {
   "cell_type": "markdown",
   "metadata": {},
   "source": [
    "## The hypothesis question: Whether the tripduration time varies between weekdays and weekend? Will people ride longer in weekends? "
   ]
  },
  {
   "cell_type": "markdown",
   "metadata": {},
   "source": [
    "### Null hypothesis: T(weekdays)- T(weekend)>=0\n",
    "### Alternativae hypothesis:  T(weekdays)- T(weekdend)<0\n",
    "T stands for tripduration\n",
    "### I will use the significant level a=0.05"
   ]
  },
  {
   "cell_type": "code",
   "execution_count": 40,
   "metadata": {
    "collapsed": false
   },
   "outputs": [],
   "source": [
    "df_new=df[['tripduration','gender','date']]"
   ]
  },
  {
   "cell_type": "code",
   "execution_count": 41,
   "metadata": {
    "collapsed": false
   },
   "outputs": [
    {
     "data": {
      "text/html": [
       "<div>\n",
       "<style scoped>\n",
       "    .dataframe tbody tr th:only-of-type {\n",
       "        vertical-align: middle;\n",
       "    }\n",
       "\n",
       "    .dataframe tbody tr th {\n",
       "        vertical-align: top;\n",
       "    }\n",
       "\n",
       "    .dataframe thead th {\n",
       "        text-align: right;\n",
       "    }\n",
       "</style>\n",
       "<table border=\"1\" class=\"dataframe\">\n",
       "  <thead>\n",
       "    <tr style=\"text-align: right;\">\n",
       "      <th></th>\n",
       "      <th>tripduration</th>\n",
       "      <th>gender</th>\n",
       "      <th>date</th>\n",
       "    </tr>\n",
       "  </thead>\n",
       "  <tbody>\n",
       "    <tr>\n",
       "      <th>0</th>\n",
       "      <td>681</td>\n",
       "      <td>1</td>\n",
       "      <td>2018-08-01 00:00:07.321</td>\n",
       "    </tr>\n",
       "    <tr>\n",
       "      <th>1</th>\n",
       "      <td>625</td>\n",
       "      <td>1</td>\n",
       "      <td>2018-08-01 00:00:19.748</td>\n",
       "    </tr>\n",
       "    <tr>\n",
       "      <th>2</th>\n",
       "      <td>1319</td>\n",
       "      <td>1</td>\n",
       "      <td>2018-08-01 00:00:21.175</td>\n",
       "    </tr>\n",
       "    <tr>\n",
       "      <th>3</th>\n",
       "      <td>220</td>\n",
       "      <td>1</td>\n",
       "      <td>2018-08-01 00:00:26.470</td>\n",
       "    </tr>\n",
       "    <tr>\n",
       "      <th>4</th>\n",
       "      <td>398</td>\n",
       "      <td>1</td>\n",
       "      <td>2018-08-01 00:00:30.291</td>\n",
       "    </tr>\n",
       "  </tbody>\n",
       "</table>\n",
       "</div>"
      ],
      "text/plain": [
       "   tripduration  gender                    date\n",
       "0           681       1 2018-08-01 00:00:07.321\n",
       "1           625       1 2018-08-01 00:00:19.748\n",
       "2          1319       1 2018-08-01 00:00:21.175\n",
       "3           220       1 2018-08-01 00:00:26.470\n",
       "4           398       1 2018-08-01 00:00:30.291"
      ]
     },
     "execution_count": 41,
     "metadata": {},
     "output_type": "execute_result"
    }
   ],
   "source": [
    "df_new.head()"
   ]
  },
  {
   "cell_type": "code",
   "execution_count": 42,
   "metadata": {
    "collapsed": false
   },
   "outputs": [
    {
     "name": "stderr",
     "output_type": "stream",
     "text": [
      "/anaconda3/lib/python3.6/site-packages/ipykernel_launcher.py:2: SettingWithCopyWarning: \n",
      "A value is trying to be set on a copy of a slice from a DataFrame.\n",
      "Try using .loc[row_indexer,col_indexer] = value instead\n",
      "\n",
      "See the caveats in the documentation: http://pandas.pydata.org/pandas-docs/stable/indexing.html#indexing-view-versus-copy\n",
      "  \n"
     ]
    },
    {
     "data": {
      "text/plain": [
       "<matplotlib.legend.Legend at 0x105bae240>"
      ]
     },
     "execution_count": 42,
     "metadata": {},
     "output_type": "execute_result"
    },
    {
     "data": {
      "image/png": "[encoded data removed]",
      "text/plain": [
       "<Figure size 1080x1080 with 1 Axes>"
      ]
     },
     "metadata": {},
     "output_type": "display_data"
    }
   ],
   "source": [
    "fig = pl.figure(figsize(15,15))\n",
    "df_new['weekday']=df_new['date'].dt.weekday\n",
    "norm_w = 1\n",
    "ind_m=df_new.gender==1\n",
    "ind_f=df_new.gender==2\n",
    "df_m=df_new.loc[ind_m]\n",
    "df_f=df_new.loc[ind_f]\n",
    "\n",
    "ax=     (df_f['tripduration'].groupby(df_new['weekday']).mean()/ norm_w).plot(kind=\"bar\", \n",
    "                                                                                         color='IndianRed', \n",
    "                                                                                         label='female triptime')\n",
    "\n",
    "norm_m = 1\n",
    "ax =    (df_m['tripduration'].groupby(df_new['weekday']).mean()/ norm_w).plot(kind=\"bar\", \n",
    "                                                                                              color='SteelBlue', \n",
    "                                                                                              alpha=0.5,\n",
    "                                                                                              label='male')\n",
    "ax.set_ylabel('Mean triptime') \n",
    "tmp = ax.xaxis.set_ticklabels(['Mon', 'Tue', 'Wed', 'Thu', 'Fri', 'Sat', 'Sun'], fontsize=20)\n",
    "pl.legend()"
   ]
  },
  {
   "cell_type": "markdown",
   "metadata": {},
   "source": [
    "## Figure 1.1 : The distribution of mean tripduration on each days shows that people tends to ride more on weekend"
   ]
  },
  {
   "cell_type": "code",
   "execution_count": 43,
   "metadata": {},
   "outputs": [
    {
     "data": {
      "text/html": [
       "<div>\n",
       "<style scoped>\n",
       "    .dataframe tbody tr th:only-of-type {\n",
       "        vertical-align: middle;\n",
       "    }\n",
       "\n",
       "    .dataframe tbody tr th {\n",
       "        vertical-align: top;\n",
       "    }\n",
       "\n",
       "    .dataframe thead th {\n",
       "        text-align: right;\n",
       "    }\n",
       "</style>\n",
       "<table border=\"1\" class=\"dataframe\">\n",
       "  <thead>\n",
       "    <tr style=\"text-align: right;\">\n",
       "      <th></th>\n",
       "      <th>tripduration</th>\n",
       "      <th>gender</th>\n",
       "      <th>weekday</th>\n",
       "    </tr>\n",
       "    <tr>\n",
       "      <th>weekday</th>\n",
       "      <th></th>\n",
       "      <th></th>\n",
       "      <th></th>\n",
       "    </tr>\n",
       "  </thead>\n",
       "  <tbody>\n",
       "    <tr>\n",
       "      <th>0</th>\n",
       "      <td>821.255593</td>\n",
       "      <td>1.0</td>\n",
       "      <td>0.0</td>\n",
       "    </tr>\n",
       "    <tr>\n",
       "      <th>1</th>\n",
       "      <td>805.153130</td>\n",
       "      <td>1.0</td>\n",
       "      <td>1.0</td>\n",
       "    </tr>\n",
       "    <tr>\n",
       "      <th>2</th>\n",
       "      <td>813.058173</td>\n",
       "      <td>1.0</td>\n",
       "      <td>2.0</td>\n",
       "    </tr>\n",
       "    <tr>\n",
       "      <th>3</th>\n",
       "      <td>860.033344</td>\n",
       "      <td>1.0</td>\n",
       "      <td>3.0</td>\n",
       "    </tr>\n",
       "    <tr>\n",
       "      <th>4</th>\n",
       "      <td>810.200395</td>\n",
       "      <td>1.0</td>\n",
       "      <td>4.0</td>\n",
       "    </tr>\n",
       "    <tr>\n",
       "      <th>5</th>\n",
       "      <td>987.919503</td>\n",
       "      <td>1.0</td>\n",
       "      <td>5.0</td>\n",
       "    </tr>\n",
       "    <tr>\n",
       "      <th>6</th>\n",
       "      <td>1108.522944</td>\n",
       "      <td>1.0</td>\n",
       "      <td>6.0</td>\n",
       "    </tr>\n",
       "  </tbody>\n",
       "</table>\n",
       "</div>"
      ],
      "text/plain": [
       "         tripduration  gender  weekday\n",
       "weekday                               \n",
       "0          821.255593     1.0      0.0\n",
       "1          805.153130     1.0      1.0\n",
       "2          813.058173     1.0      2.0\n",
       "3          860.033344     1.0      3.0\n",
       "4          810.200395     1.0      4.0\n",
       "5          987.919503     1.0      5.0\n",
       "6         1108.522944     1.0      6.0"
      ]
     },
     "execution_count": 43,
     "metadata": {},
     "output_type": "execute_result"
    }
   ],
   "source": [
    "df_m.groupby(df_new['weekday']).mean()"
   ]
  },
  {
   "cell_type": "code",
   "execution_count": 44,
   "metadata": {},
   "outputs": [
    {
     "name": "stdout",
     "output_type": "stream",
     "text": [
      "female weekday sample size 366635\n",
      "male weekday sample size 1047060\n",
      "total weekday sample size 1542368\n",
      "female weekend sample size 108850\n",
      "male weekend sample size 249252\n",
      "total weekend sample size 434809\n",
      "total weekday mean tripduration 950.9918625127077\n",
      "total weekend mean tripduration 1228.4160102481778\n",
      "total weekday std tripduration 9917.837356413838\n",
      "total weekend std tripduration 15263.004872777665\n",
      "female weekday mean tripduration  968.3268673203595 \n",
      "female weekday std tripduration  9342.233729973295\n",
      "female weekend mean tripduration  1131.0045567294442\n",
      "female weekend std tripduration  10151.222897360018\n",
      "male weekday mean tripduration  823.1827784463163\n",
      "male weekday std tripduration  8028.49852103291\n",
      "male weekend mean tripduration  1050.4997271837337\n",
      "male weekend std tripduration  1050.4997271837337\n"
     ]
    }
   ],
   "source": [
    "df_f.groupby(df_new['weekday']).mean()\n",
    "\n",
    "week_total=df_new.weekday<5\n",
    "weekend_total=df_new.weekday>=5\n",
    "df_new_weektotal=df_new[week_total]\n",
    "df_new_weekendtotal=df_new[weekend_total]\n",
    "mean_week_total=df_new_weektotal['tripduration'].mean()\n",
    "std_week_total=df_new_weektotal['tripduration'].std()\n",
    "mean_weekend_total=df_new_weekendtotal['tripduration'].mean()\n",
    "std_weekend_total=df_new_weekendtotal['tripduration'].std()\n",
    "n_total_week=len(df_new_weektotal)\n",
    "n_total_weekend=len(df_new_weekendtotal)\n",
    "\n",
    "Week_f=df_f.weekday<5\n",
    "Weekend_f=df_f.weekday>=5\n",
    "df_f_week=df_f[Week_f]\n",
    "df_f_weekend=df_f[Weekend_f]\n",
    "mean_week_f=df_f_week['tripduration'].mean()\n",
    "std_week_f=df_f_week['tripduration'].std()\n",
    "mean_weekend_f=df_f_weekend['tripduration'].mean()\n",
    "std_weekend_f=df_f_weekend['tripduration'].std()\n",
    "n_f_week=len(df_f_week.index)\n",
    "n_f_weekend=len(df_f_weekend.index)\n",
    "\n",
    "Week_m=df_m.weekday<5\n",
    "Weekend_m=df_m.weekday>=5\n",
    "df_m_week=df_m[Week_m]\n",
    "df_m_weekend=df_m[Weekend_m]\n",
    "mean_week_m=df_m_week['tripduration'].mean()\n",
    "std_week_m=df_m_week['tripduration'].std()\n",
    "mean_weekend_m=df_m_weekend['tripduration'].mean()\n",
    "std_weekend_m=df_m_weekend['tripduration'].std()\n",
    "n_m_week=len(df_m_week.index)\n",
    "n_m_weekend=len(df_m_weekend.index)\n",
    "\n",
    "\n",
    "print('female weekday sample size %s'%n_f_week)\n",
    "print('male weekday sample size %s'%n_m_week)\n",
    "print ('total weekday sample size %s'%n_total_week)\n",
    "\n",
    "print('female weekend sample size %s'%n_f_weekend)\n",
    "print('male weekend sample size %s'%n_m_weekend)\n",
    "print('total weekend sample size %s'%n_total_weekend)\n",
    "\n",
    "print('total weekday mean tripduration %s'%mean_week_total)\n",
    "print('total weekend mean tripduration %s'%mean_weekend_total)\n",
    "print('total weekday std tripduration %s'%std_week_total)\n",
    "print('total weekend std tripduration %s'%std_weekend_total)\n",
    "\n",
    "\n",
    "\n",
    "\n",
    "\n",
    "print('female weekday mean tripduration  %s '%mean_week_f)\n",
    "print('female weekday std tripduration  %s'%std_week_f)\n",
    "print('female weekend mean tripduration  %s'%mean_weekend_f)\n",
    "print('female weekend std tripduration  %s'%std_weekend_f)\n",
    "\n",
    "print('male weekday mean tripduration  %s'%mean_week_m)\n",
    "print('male weekday std tripduration  %s'%std_week_m)\n",
    "print('male weekend mean tripduration  %s'%mean_weekend_m)\n",
    "print('male weekend std tripduration  %s'%mean_weekend_m)"
   ]
  },
  {
   "cell_type": "code",
   "execution_count": 45,
   "metadata": {},
   "outputs": [
    {
     "data": {
      "image/png": "[encoded data removed]",
      "text/plain": [
       "<Figure size 1080x1080 with 1 Axes>"
      ]
     },
     "metadata": {},
     "output_type": "display_data"
    }
   ],
   "source": [
    "# y=[mean_week_total, mean_week_f, mean_week_m]\n",
    "# x=[0,1]\n",
    "# # ax= pl([0.6],mean_week_total,kind=\"bar\", color='IndianRed', label='female triptime')\n",
    "# plt.bar(x,y,0.4,color=\"green\")\n",
    "\n",
    "# plt.xlabel(\"Weekday\")\n",
    "# tmp = ax.xaxis.set_ticklabels(['Weekday', 'Weekend'], fontsize=20)\n",
    "\n",
    "N = 2 \n",
    "y1=[mean_week_total,mean_weekend_total]\n",
    "y2=[mean_week_f,mean_weekend_f]\n",
    "y3=[mean_week_m,mean_weekend_m]\n",
    "xtra_space = 0.05 \n",
    "ind = np.arange(N) # the x locations for the groups \n",
    "width = 0.05  # the width of the bars \n",
    "\n",
    "fig, ax = plt.subplots() \n",
    "rects1 = ax.bar(ind, y1, width, color='g') \n",
    "rects2 = ax.bar(ind+width+xtra_space, y2, width, color='r')\n",
    "rects2 = ax.bar(ind+width*2+xtra_space*2, y3, width, color='b')\n",
    "\n",
    "# add some text for labels, title and axes ticks \n",
    "ax.set_ylabel('Mean triptime') \n",
    "# ax.set_title('Population: Age Structure') \n",
    "\n",
    "ax.set_xticks(ind+width+xtra_space) \n",
    "ax.set_xticklabels(('Weekday', 'Weekend')) \n",
    "plt.legend(['total_triptime','female_triptime','male_triptime'],fontsize=20)\n",
    "plt.show() "
   ]
  },
  {
   "cell_type": "markdown",
   "metadata": {},
   "source": [
    "## Figure 1.2 : On average, both females and males appear to ride longer on weekend and the total triptime shows that people ride longer on average"
   ]
  },
  {
   "cell_type": "markdown",
   "metadata": {},
   "source": [
    "### In order to compare the weekdays mean tripduration and weekend trip duration in each groups, I conduct a t-test for I do not konw the true population variance."
   ]
  },
  {
   "cell_type": "code",
   "execution_count": 46,
   "metadata": {
    "collapsed": false
   },
   "outputs": [],
   "source": [
    "#for total t-test\n",
    "def get_t_statistics(size_week,size_weekend,mean_week, mean_weekend,std_week, std_weekend):\n",
    "    n1=size_week\n",
    "    n2=size_weekend\n",
    "    m1=mean_week\n",
    "    m2=mean_weekend\n",
    "    s1=std_week\n",
    "    s2=std_weekend\n",
    "    sp2=((n1-1)*(s1**2)+(n2-1)*(s2**2))/(n1+n2-2)\n",
    "    t=(m2-m1)/math.sqrt(sp2/n1+sp2/n2)\n",
    "    degree_of_freedom=n1+n2-2\n",
    "    return t, degree_of_freedom"
   ]
  },
  {
   "cell_type": "code",
   "execution_count": 47,
   "metadata": {},
   "outputs": [
    {
     "name": "stdout",
     "output_type": "stream",
     "text": [
      "t statistics for total population: 14.28310382036698, degree of freedom: 1977175\n",
      "t statistics for female population: 4.943548654181577, degree of freedom: 475483\n",
      "t statistics for male population: 10.25635715073465, degree of freedom: 1296310\n"
     ]
    }
   ],
   "source": [
    "t_total,d_total=get_t_statistics(n_total_week,n_total_weekend, mean_week_total, mean_weekend_total,std_week_total, std_weekend_total)\n",
    "t_female,d_f=get_t_statistics(n_f_week,n_f_weekend, mean_week_f, mean_weekend_f,std_week_f, std_weekend_f)\n",
    "t_male,d_m=get_t_statistics(n_m_week,n_m_weekend, mean_week_m, mean_weekend_m,std_week_m, std_weekend_m)\n",
    "print('t statistics for total population: %s, degree of freedom: %s'%(t_total,d_total))\n",
    "print('t statistics for female population: %s, degree of freedom: %s'%(t_female,d_f))\n",
    "print('t statistics for male population: %s, degree of freedom: %s'%(t_male,d_m))\n"
   ]
  },
  {
   "cell_type": "markdown",
   "metadata": {},
   "source": [
    "## when degree of fremdom larger than 1000, the 99.9% significant level t statistics <3.3. Therefore, all of the t test shows a rejection to the Null hypothesis. "
   ]
  },
  {
   "cell_type": "markdown",
   "metadata": {},
   "source": [
    "# Result\n",
    "## The rejection of all t-test indicates that people, no matter male or female or as a whole, have significant longer riding on weekend than on weekdays. "
   ]
  },
  {
   "cell_type": "markdown",
   "metadata": {},
   "source": [
    "# Robustness test"
   ]
  },
  {
   "cell_type": "markdown",
   "metadata": {},
   "source": [
    "### Use another period dataset to see whether the same conclusion could hold"
   ]
  },
  {
   "cell_type": "code",
   "execution_count": 48,
   "metadata": {},
   "outputs": [
    {
     "name": "stdout",
     "output_type": "stream",
     "text": [
      "Downloading 201712\n",
      "file in place, you can continue\n"
     ]
    }
   ],
   "source": [
    "datestring=\"201712\"\n",
    "getCitiBikeCSV(datestring)"
   ]
  },
  {
   "cell_type": "code",
   "execution_count": 49,
   "metadata": {
    "collapsed": false
   },
   "outputs": [
    {
     "data": {
      "text/html": [
       "<div>\n",
       "<style scoped>\n",
       "    .dataframe tbody tr th:only-of-type {\n",
       "        vertical-align: middle;\n",
       "    }\n",
       "\n",
       "    .dataframe tbody tr th {\n",
       "        vertical-align: top;\n",
       "    }\n",
       "\n",
       "    .dataframe thead th {\n",
       "        text-align: right;\n",
       "    }\n",
       "</style>\n",
       "<table border=\"1\" class=\"dataframe\">\n",
       "  <thead>\n",
       "    <tr style=\"text-align: right;\">\n",
       "      <th></th>\n",
       "      <th>tripduration</th>\n",
       "      <th>starttime</th>\n",
       "      <th>stoptime</th>\n",
       "      <th>start station id</th>\n",
       "      <th>start station name</th>\n",
       "      <th>start station latitude</th>\n",
       "      <th>start station longitude</th>\n",
       "      <th>end station id</th>\n",
       "      <th>end station name</th>\n",
       "      <th>end station latitude</th>\n",
       "      <th>end station longitude</th>\n",
       "      <th>bikeid</th>\n",
       "      <th>usertype</th>\n",
       "      <th>birth year</th>\n",
       "      <th>gender</th>\n",
       "      <th>date</th>\n",
       "    </tr>\n",
       "  </thead>\n",
       "  <tbody>\n",
       "    <tr>\n",
       "      <th>0</th>\n",
       "      <td>256</td>\n",
       "      <td>2017-12-01 00:00:00</td>\n",
       "      <td>2017-12-01 00:04:17</td>\n",
       "      <td>324</td>\n",
       "      <td>DeKalb Ave &amp; Hudson Ave</td>\n",
       "      <td>40.689888</td>\n",
       "      <td>-73.981013</td>\n",
       "      <td>262</td>\n",
       "      <td>Washington Park</td>\n",
       "      <td>40.691782</td>\n",
       "      <td>-73.973730</td>\n",
       "      <td>18858</td>\n",
       "      <td>Subscriber</td>\n",
       "      <td>1981.0</td>\n",
       "      <td>1</td>\n",
       "      <td>2017-12-01 00:00:00</td>\n",
       "    </tr>\n",
       "    <tr>\n",
       "      <th>1</th>\n",
       "      <td>325</td>\n",
       "      <td>2017-12-01 00:00:17</td>\n",
       "      <td>2017-12-01 00:05:43</td>\n",
       "      <td>470</td>\n",
       "      <td>W 20 St &amp; 8 Ave</td>\n",
       "      <td>40.743453</td>\n",
       "      <td>-74.000040</td>\n",
       "      <td>490</td>\n",
       "      <td>8 Ave &amp; W 33 St</td>\n",
       "      <td>40.751551</td>\n",
       "      <td>-73.993934</td>\n",
       "      <td>19306</td>\n",
       "      <td>Subscriber</td>\n",
       "      <td>1992.0</td>\n",
       "      <td>1</td>\n",
       "      <td>2017-12-01 00:00:17</td>\n",
       "    </tr>\n",
       "    <tr>\n",
       "      <th>2</th>\n",
       "      <td>967</td>\n",
       "      <td>2017-12-01 00:00:19</td>\n",
       "      <td>2017-12-01 00:16:26</td>\n",
       "      <td>347</td>\n",
       "      <td>Greenwich St &amp; W Houston St</td>\n",
       "      <td>40.728846</td>\n",
       "      <td>-74.008591</td>\n",
       "      <td>504</td>\n",
       "      <td>1 Ave &amp; E 16 St</td>\n",
       "      <td>40.732219</td>\n",
       "      <td>-73.981656</td>\n",
       "      <td>28250</td>\n",
       "      <td>Subscriber</td>\n",
       "      <td>1992.0</td>\n",
       "      <td>1</td>\n",
       "      <td>2017-12-01 00:00:19</td>\n",
       "    </tr>\n",
       "    <tr>\n",
       "      <th>3</th>\n",
       "      <td>125</td>\n",
       "      <td>2017-12-01 00:00:20</td>\n",
       "      <td>2017-12-01 00:02:26</td>\n",
       "      <td>3077</td>\n",
       "      <td>Stagg St &amp; Union Ave</td>\n",
       "      <td>40.708771</td>\n",
       "      <td>-73.950953</td>\n",
       "      <td>3454</td>\n",
       "      <td>Leonard St &amp; Maujer St</td>\n",
       "      <td>40.710369</td>\n",
       "      <td>-73.947060</td>\n",
       "      <td>25834</td>\n",
       "      <td>Subscriber</td>\n",
       "      <td>1988.0</td>\n",
       "      <td>1</td>\n",
       "      <td>2017-12-01 00:00:20</td>\n",
       "    </tr>\n",
       "    <tr>\n",
       "      <th>4</th>\n",
       "      <td>451</td>\n",
       "      <td>2017-12-01 00:00:28</td>\n",
       "      <td>2017-12-01 00:08:00</td>\n",
       "      <td>368</td>\n",
       "      <td>Carmine St &amp; 6 Ave</td>\n",
       "      <td>40.730386</td>\n",
       "      <td>-74.002150</td>\n",
       "      <td>326</td>\n",
       "      <td>E 11 St &amp; 1 Ave</td>\n",
       "      <td>40.729538</td>\n",
       "      <td>-73.984267</td>\n",
       "      <td>14769</td>\n",
       "      <td>Subscriber</td>\n",
       "      <td>1986.0</td>\n",
       "      <td>1</td>\n",
       "      <td>2017-12-01 00:00:28</td>\n",
       "    </tr>\n",
       "  </tbody>\n",
       "</table>\n",
       "</div>"
      ],
      "text/plain": [
       "   tripduration            starttime             stoptime  start station id  \\\n",
       "0           256  2017-12-01 00:00:00  2017-12-01 00:04:17               324   \n",
       "1           325  2017-12-01 00:00:17  2017-12-01 00:05:43               470   \n",
       "2           967  2017-12-01 00:00:19  2017-12-01 00:16:26               347   \n",
       "3           125  2017-12-01 00:00:20  2017-12-01 00:02:26              3077   \n",
       "4           451  2017-12-01 00:00:28  2017-12-01 00:08:00               368   \n",
       "\n",
       "            start station name  start station latitude  \\\n",
       "0      DeKalb Ave & Hudson Ave               40.689888   \n",
       "1              W 20 St & 8 Ave               40.743453   \n",
       "2  Greenwich St & W Houston St               40.728846   \n",
       "3         Stagg St & Union Ave               40.708771   \n",
       "4           Carmine St & 6 Ave               40.730386   \n",
       "\n",
       "   start station longitude  end station id        end station name  \\\n",
       "0               -73.981013             262         Washington Park   \n",
       "1               -74.000040             490         8 Ave & W 33 St   \n",
       "2               -74.008591             504         1 Ave & E 16 St   \n",
       "3               -73.950953            3454  Leonard St & Maujer St   \n",
       "4               -74.002150             326         E 11 St & 1 Ave   \n",
       "\n",
       "   end station latitude  end station longitude  bikeid    usertype  \\\n",
       "0             40.691782             -73.973730   18858  Subscriber   \n",
       "1             40.751551             -73.993934   19306  Subscriber   \n",
       "2             40.732219             -73.981656   28250  Subscriber   \n",
       "3             40.710369             -73.947060   25834  Subscriber   \n",
       "4             40.729538             -73.984267   14769  Subscriber   \n",
       "\n",
       "   birth year  gender                date  \n",
       "0      1981.0       1 2017-12-01 00:00:00  \n",
       "1      1992.0       1 2017-12-01 00:00:17  \n",
       "2      1992.0       1 2017-12-01 00:00:19  \n",
       "3      1988.0       1 2017-12-01 00:00:20  \n",
       "4      1986.0       1 2017-12-01 00:00:28  "
      ]
     },
     "execution_count": 49,
     "metadata": {},
     "output_type": "execute_result"
    }
   ],
   "source": [
    "df = pd.read_csv(os.getenv(\"PUIDATA\") + \"/\" + datestring + '-citibike-tripdata.csv')\n",
    "# df is the dataframe where the content of the csv file is stored\n",
    "df['date'] = pd.to_datetime(df['starttime'])\n",
    "# # note that with dataframes I can refer to variables as dictionary keys, \n",
    "# # i.e. df['starttime'] or as attributes: df.starttime. \n",
    "df.head()"
   ]
  },
  {
   "cell_type": "code",
   "execution_count": 50,
   "metadata": {
    "collapsed": false
   },
   "outputs": [],
   "source": [
    "df_new=df[['tripduration','gender','date']]"
   ]
  },
  {
   "cell_type": "code",
   "execution_count": 51,
   "metadata": {
    "collapsed": false
   },
   "outputs": [
    {
     "name": "stderr",
     "output_type": "stream",
     "text": [
      "/anaconda3/lib/python3.6/site-packages/ipykernel_launcher.py:4: SettingWithCopyWarning: \n",
      "A value is trying to be set on a copy of a slice from a DataFrame.\n",
      "Try using .loc[row_indexer,col_indexer] = value instead\n",
      "\n",
      "See the caveats in the documentation: http://pandas.pydata.org/pandas-docs/stable/indexing.html#indexing-view-versus-copy\n",
      "  after removing the cwd from sys.path.\n"
     ]
    },
    {
     "data": {
      "text/plain": [
       "<matplotlib.legend.Legend at 0x10e572d30>"
      ]
     },
     "execution_count": 51,
     "metadata": {},
     "output_type": "execute_result"
    },
    {
     "data": {
      "image/png": "[encoded data removed]",
      "text/plain": [
       "<Figure size 1080x1080 with 1 Axes>"
      ]
     },
     "metadata": {},
     "output_type": "display_data"
    }
   ],
   "source": [
    "fig = pl.figure(figsize(15,15))\n",
    "\n",
    "#instad of plotting with matplotlib i.e. plot() i use the plot method in pandas\n",
    "df_new['weekday']=df_new['date'].dt.weekday\n",
    "norm_w = 1\n",
    "ind_m=df_new.gender==1\n",
    "ind_f=df_new.gender==2\n",
    "df_m=df_new.loc[ind_m]\n",
    "df_f=df_new.loc[ind_f]\n",
    "\n",
    "ax=     (df_f['tripduration'].groupby(df_new['weekday']).mean()/ norm_w).plot(kind=\"bar\", \n",
    "                                                                                         color='IndianRed', \n",
    "                                                                                         label='female triptime')\n",
    "\n",
    "norm_m = 1\n",
    "ax =    (df_m['tripduration'].groupby(df_new['weekday']).mean()/ norm_w).plot(kind=\"bar\", \n",
    "                                                                                              color='SteelBlue', \n",
    "                                                                                              alpha=0.5,\n",
    "                                                                                              label='male')\n",
    "\n",
    "tmp = ax.xaxis.set_ticklabels(['Mon', 'Tue', 'Wed', 'Thu', 'Fri', 'Sat', 'Sun'], fontsize=20)\n",
    "pl.legend()"
   ]
  },
  {
   "cell_type": "markdown",
   "metadata": {},
   "source": [
    "## Figure 2.1 : The distribution of mean tripduration on each days shows that people spend nearly equal amount of time in riding on each time"
   ]
  },
  {
   "cell_type": "code",
   "execution_count": 52,
   "metadata": {},
   "outputs": [
    {
     "name": "stdout",
     "output_type": "stream",
     "text": [
      "female weekday sample size 152377\n",
      "male weekday sample size 527075\n",
      "total weekday sample size 709885\n",
      "female weekend sample size 42425\n",
      "male weekend sample size 124473\n",
      "total weekend sample size 180082\n",
      "total weekday mean tripduration 754.0326292286779\n",
      "total weekend mean tripduration 808.2194555813463\n",
      "total weekday std tripduration 7982.841122395618\n",
      "total weekend std tripduration 9286.296912890399\n",
      "female weekday mean tripduration  806.5632936729296 \n",
      "female weekday std tripduration  8577.607312858448\n",
      "female weekend mean tripduration  822.7112315851502\n",
      "female weekend std tripduration  7221.872807712371\n",
      "male weekday mean tripduration  704.7402817435849\n",
      "male weekday std tripduration  7844.917001612964\n",
      "male weekend mean tripduration  701.6468953106296\n",
      "male weekend std tripduration  701.6468953106296\n"
     ]
    }
   ],
   "source": [
    "df_f.groupby(df_new['weekday']).mean()\n",
    "\n",
    "week_total=df_new.weekday<5\n",
    "weekend_total=df_new.weekday>=5\n",
    "df_new_weektotal=df_new[week_total]\n",
    "df_new_weekendtotal=df_new[weekend_total]\n",
    "mean_week_total=df_new_weektotal['tripduration'].mean()\n",
    "std_week_total=df_new_weektotal['tripduration'].std()\n",
    "mean_weekend_total=df_new_weekendtotal['tripduration'].mean()\n",
    "std_weekend_total=df_new_weekendtotal['tripduration'].std()\n",
    "n_total_week=len(df_new_weektotal)\n",
    "n_total_weekend=len(df_new_weekendtotal)\n",
    "\n",
    "Week_f=df_f.weekday<5\n",
    "Weekend_f=df_f.weekday>=5\n",
    "df_f_week=df_f[Week_f]\n",
    "df_f_weekend=df_f[Weekend_f]\n",
    "mean_week_f=df_f_week['tripduration'].mean()\n",
    "std_week_f=df_f_week['tripduration'].std()\n",
    "mean_weekend_f=df_f_weekend['tripduration'].mean()\n",
    "std_weekend_f=df_f_weekend['tripduration'].std()\n",
    "n_f_week=len(df_f_week.index)\n",
    "n_f_weekend=len(df_f_weekend.index)\n",
    "\n",
    "Week_m=df_m.weekday<5\n",
    "Weekend_m=df_m.weekday>=5\n",
    "df_m_week=df_m[Week_m]\n",
    "df_m_weekend=df_m[Weekend_m]\n",
    "mean_week_m=df_m_week['tripduration'].mean()\n",
    "std_week_m=df_m_week['tripduration'].std()\n",
    "mean_weekend_m=df_m_weekend['tripduration'].mean()\n",
    "std_weekend_m=df_m_weekend['tripduration'].std()\n",
    "n_m_week=len(df_m_week.index)\n",
    "n_m_weekend=len(df_m_weekend.index)\n",
    "\n",
    "\n",
    "print('female weekday sample size %s'%n_f_week)\n",
    "print('male weekday sample size %s'%n_m_week)\n",
    "print ('total weekday sample size %s'%n_total_week)\n",
    "\n",
    "print('female weekend sample size %s'%n_f_weekend)\n",
    "print('male weekend sample size %s'%n_m_weekend)\n",
    "print('total weekend sample size %s'%n_total_weekend)\n",
    "\n",
    "print('total weekday mean tripduration %s'%mean_week_total)\n",
    "print('total weekend mean tripduration %s'%mean_weekend_total)\n",
    "print('total weekday std tripduration %s'%std_week_total)\n",
    "print('total weekend std tripduration %s'%std_weekend_total)\n",
    "\n",
    "\n",
    "\n",
    "\n",
    "\n",
    "print('female weekday mean tripduration  %s '%mean_week_f)\n",
    "print('female weekday std tripduration  %s'%std_week_f)\n",
    "print('female weekend mean tripduration  %s'%mean_weekend_f)\n",
    "print('female weekend std tripduration  %s'%std_weekend_f)\n",
    "\n",
    "print('male weekday mean tripduration  %s'%mean_week_m)\n",
    "print('male weekday std tripduration  %s'%std_week_m)\n",
    "print('male weekend mean tripduration  %s'%mean_weekend_m)\n",
    "print('male weekend std tripduration  %s'%mean_weekend_m)"
   ]
  },
  {
   "cell_type": "code",
   "execution_count": 53,
   "metadata": {},
   "outputs": [
    {
     "data": {
      "image/png": "[encoded data removed]",
      "text/plain": [
       "<Figure size 1080x1080 with 1 Axes>"
      ]
     },
     "metadata": {},
     "output_type": "display_data"
    }
   ],
   "source": [
    "N = 2 \n",
    "y1=[mean_week_total,mean_weekend_total]\n",
    "y2=[mean_week_f,mean_weekend_f]\n",
    "y3=[mean_week_m,mean_weekend_m]\n",
    "xtra_space = 0.05 \n",
    "ind = np.arange(N) # the x locations for the groups \n",
    "width = 0.05  # the width of the bars \n",
    "\n",
    "fig, ax = plt.subplots() \n",
    "rects1 = ax.bar(ind, y1, width, color='g') \n",
    "rects2 = ax.bar(ind+width+xtra_space, y2, width, color='r')\n",
    "rects2 = ax.bar(ind+width*2+xtra_space*2, y3, width, color='b')\n",
    "\n",
    "# add some text for labels, title and axes ticks \n",
    "ax.set_ylabel('Mean triptime') \n",
    "# ax.set_title('Population: Age Structure') \n",
    "\n",
    "ax.set_xticks(ind+width+xtra_space) \n",
    "ax.set_xticklabels(('Weekday', 'Weekend')) \n",
    "plt.legend(['total_triptime','female_triptime','male_triptime'],fontsize=20)\n",
    "plt.show() "
   ]
  },
  {
   "cell_type": "markdown",
   "metadata": {},
   "source": [
    "## Figure 1.2 : On average,  females and total as a whole appear to ride longer on weekend, but males do not rider longer on weekend"
   ]
  },
  {
   "cell_type": "code",
   "execution_count": 54,
   "metadata": {},
   "outputs": [
    {
     "name": "stdout",
     "output_type": "stream",
     "text": [
      "t statistics for total population: 2.485350530476764, degree of freedom: 889965\n",
      "t statistics for female population: 0.3543630169336819, degree of freedom: 194800\n",
      "t statistics for male population: -0.11965952241600453, degree of freedom: 651546\n"
     ]
    }
   ],
   "source": [
    "t_total,d_total=get_t_statistics(n_total_week,n_total_weekend, mean_week_total, mean_weekend_total,std_week_total, std_weekend_total)\n",
    "t_female,d_f=get_t_statistics(n_f_week,n_f_weekend, mean_week_f, mean_weekend_f,std_week_f, std_weekend_f)\n",
    "t_male,d_m=get_t_statistics(n_m_week,n_m_weekend, mean_week_m, mean_weekend_m,std_week_m, std_weekend_m)\n",
    "print('t statistics for total population: %s, degree of freedom: %s'%(t_total,d_total))\n",
    "print('t statistics for female population: %s, degree of freedom: %s'%(t_female,d_f))\n",
    "print('t statistics for male population: %s, degree of freedom: %s'%(t_male,d_m))\n"
   ]
  },
  {
   "cell_type": "markdown",
   "metadata": {},
   "source": [
    "## when degree of fremdom is close to infinity, the 95% significant level t statistics is close 1.645. Therefore, only the t test for total population shows a rejection to the Null hypothesis. Female and male population does not reject the null hypothesis"
   ]
  },
  {
   "cell_type": "markdown",
   "metadata": {},
   "source": [
    "# Result\n",
    "## The rejection of all t-test indicates that although the total population have significant longer riding on weekend than on weekdays. However, the failness to reject the null hypothesis of female and male population indicates that the data has somewhat limitation for not including comprehensive information on gender data. The Robutness test shows that the orignial hypothesis is not likely to be true across time."
   ]
  },
  {
   "cell_type": "code",
   "execution_count": null,
   "metadata": {},
   "outputs": [],
   "source": []
  }
 ],
 "metadata": {
  "kernelspec": {
   "display_name": "Python 3",
   "language": "python",
   "name": "python3"
  },
  "language_info": {
   "codemirror_mode": {
    "name": "ipython",
    "version": 3
   },
   "file_extension": ".py",
   "mimetype": "text/x-python",
   "name": "python",
   "nbconvert_exporter": "python",
   "pygments_lexer": "ipython3",
   "version": "3.6.5"
  }
 },
 "nbformat": 4,
 "nbformat_minor": 2
}
