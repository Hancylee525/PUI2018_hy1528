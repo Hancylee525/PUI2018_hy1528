{
 "cells": [
  {
   "cell_type": "markdown",
   "metadata": {},
   "source": [
    "## Null hypothesis:the commute time is on average the same or longer with the new bus route as it was before: Tnew-Told>=0\n",
    "## Alterntative hypothesis:the commute time is shorter with the new bus routethan it was before: Tnew-Told<0\n",
    "## Significant level = 0.05\n"
   ]
  },
  {
   "cell_type": "code",
   "execution_count": 1,
   "metadata": {},
   "outputs": [],
   "source": [
    "time=[31.62223931,\n",
    "32.82137636,\n",
    "30.2291014,\n",
    "31.41376587,\n",
    "39.01055035,\n",
    "34.82207891,\n",
    "39.87188366,\n",
    "39.57994562,\n",
    "31.02658678,\n",
    "27.66246068,\n",
    "18.8752884,\n",
    "46.2313731,\n",
    "30.01522604,\n",
    "47.6004104,\n",
    "16.52726666,\n",
    "42.4462331,\n",
    "33.62527449,\n",
    "42.28462558,\n",
    "46.20520667,\n",
    "30.87517392,\n",
    "32.94800341,\n",
    "26.17691512,\n",
    "31.25699649,\n",
    "35.33644554,\n",
    "35.64072501,\n",
    "40.32297174,\n",
    "38.04348588,\n",
    "29.4579793,\n",
    "23.91636367,\n",
    "34.56403521,\n",
    "45.42782464,\n",
    "38.95607754,\n",
    "39.11396748,\n",
    "39.67398759,\n",
    "31.89148105,\n",
    "22.62379325,\n",
    "26.18910408,\n",
    "43.54114213,\n",
    "33.2607386,\n",
    "31.67602384,\n",
    "37.12846259,\n",
    "38.22048496,\n",
    "34.38814185,\n",
    "36.11407371,\n",
    "44.08064814,\n",
    "29.59917161,\n",
    "37.02411751,\n",
    "41.60576556,\n",
    "44.37860528,\n",
    "38.06471077,\n",
    "22.90526456,\n",
    "40.27182857,\n",
    "31.57979239,\n",
    "25.88037795,\n",
    "28.8913048,\n",
    "44.33687925,\n",
    "36.78948684,\n",
    "43.46098875,\n",
    "40.65557,\n",
    "26.16634004,\n",
    "25.13884784,\n",
    "33.01581456,\n",
    "32.87050073,\n",
    "26.28557154,\n",
    "39.44933037,\n",
    "36.25528612,\n",
    "40.719133,\n",
    "40.57181545,\n",
    "19.87166413,\n",
    "43.21925286,\n",
    "31.48102823,\n",
    "37.14915056,\n",
    "38.991504,\n",
    "20.53059384,\n",
    "27.80447692,\n",
    "38.69933298,\n",
    "30.0223142,\n",
    "38.64884169,\n",
    "26.40668884,\n",
    "32.10224978,\n",
    "28.31532754,\n",
    "43.26195884,\n",
    "40.3609407,\n",
    "37.3025258,\n",
    "31.45110181,\n",
    "38.79599524,\n",
    "36.92553372,\n",
    "32.37167945,\n",
    "23.25835631,\n",
    "26.42613261,\n",
    "48.74987653,\n",
    "31.42512354,\n",
    "46.80679298,\n",
    "30.59748648,\n",
    "20.7926322,\n",
    "26.19785226,\n",
    "42.7274097,\n",
    "33.7314695,\n",
    "37.23859057,\n",
    "36.33984141]"
   ]
  },
  {
   "cell_type": "code",
   "execution_count": 2,
   "metadata": {},
   "outputs": [
    {
     "data": {
      "text/plain": [
       "100"
      ]
     },
     "execution_count": 2,
     "metadata": {},
     "output_type": "execute_result"
    }
   ],
   "source": [
    "len(time)"
   ]
  },
  {
   "cell_type": "code",
   "execution_count": 3,
   "metadata": {},
   "outputs": [
    {
     "name": "stdout",
     "output_type": "stream",
     "text": [
      "3446.6161688300012\n"
     ]
    }
   ],
   "source": [
    "totaltime=0\n",
    "for i in time:\n",
    "    totaltime=totaltime+i\n",
    "print(totaltime)"
   ]
  },
  {
   "cell_type": "code",
   "execution_count": 4,
   "metadata": {},
   "outputs": [],
   "source": [
    "meantime=totaltime/len(time)"
   ]
  },
  {
   "cell_type": "code",
   "execution_count": 24,
   "metadata": {},
   "outputs": [
    {
     "name": "stdout",
     "output_type": "stream",
     "text": [
      "34.46616168830001\n"
     ]
    }
   ],
   "source": [
    "print(meantime)"
   ]
  },
  {
   "cell_type": "code",
   "execution_count": 22,
   "metadata": {},
   "outputs": [],
   "source": [
    "Z=(meantime-36)/(6/10)"
   ]
  },
  {
   "cell_type": "code",
   "execution_count": 23,
   "metadata": {},
   "outputs": [
    {
     "name": "stdout",
     "output_type": "stream",
     "text": [
      "-2.5563971861666466\n"
     ]
    }
   ],
   "source": [
    "print(Z)"
   ]
  },
  {
   "cell_type": "markdown",
   "metadata": {},
   "source": [
    "# Result:\n",
    "### When Z = -2..5563971861666466, the p value is 0.0054, smaller than 0.05. Therfore, we reject the null"
   ]
  },
  {
   "cell_type": "code",
   "execution_count": null,
   "metadata": {},
   "outputs": [],
   "source": []
  }
 ],
 "metadata": {
  "kernelspec": {
   "display_name": "Python 3",
   "language": "python",
   "name": "python3"
  },
  "language_info": {
   "codemirror_mode": {
    "name": "ipython",
    "version": 3
   },
   "file_extension": ".py",
   "mimetype": "text/x-python",
   "name": "python",
   "nbconvert_exporter": "python",
   "pygments_lexer": "ipython3",
   "version": "3.6.5"
  }
 },
 "nbformat": 4,
 "nbformat_minor": 2
}
