{
 "cells": [
  {
   "cell_type": "markdown",
   "metadata": {},
   "source": [
    "## HW3_hy1528_Assignment2\n",
    "Author: Haoming Yang\n",
    "\n",
    "The data is from https://data.cityofnewyork.us/Transportation/Traffic-Volume-Counts-2012-2013-/p424-amsu"
   ]
  },
  {
   "cell_type": "code",
   "execution_count": 1,
   "metadata": {},
   "outputs": [],
   "source": [
    "from __future__ import print_function"
   ]
  },
  {
   "cell_type": "code",
   "execution_count": 2,
   "metadata": {},
   "outputs": [
    {
     "name": "stdout",
     "output_type": "stream",
     "text": [
      "  % Total    % Received % Xferd  Average Speed   Time    Time     Time  Current\n",
      "                                 Dload  Upload   Total   Spent    Left  Speed\n",
      "100  907k    0  907k    0     0   896k      0 --:--:--  0:00:01 --:--:--  896k\n"
     ]
    }
   ],
   "source": [
    "!curl  https://data.cityofnewyork.us/api/views/p424-amsu/rows.csv?accessType=DOWNLOAD > Traffic_Volume_Counts.csv"
   ]
  },
  {
   "cell_type": "code",
   "execution_count": 3,
   "metadata": {},
   "outputs": [
    {
     "name": "stdout",
     "output_type": "stream",
     "text": [
      "PUIDATA /nfshome/hy1528/PUIdata\n"
     ]
    }
   ],
   "source": [
    "import os\n",
    "print(\"PUIDATA\", os.getenv(\"PUIDATA\"))"
   ]
  },
  {
   "cell_type": "code",
   "execution_count": 4,
   "metadata": {},
   "outputs": [
    {
     "name": "stdout",
     "output_type": "stream",
     "text": [
      "mv: 'Traffic_Volume_Counts.csv' and '/nfshome/hy1528/PUIdata/Traffic_Volume_Counts.csv' are the same file\r\n"
     ]
    }
   ],
   "source": [
    "!mv Traffic_Volume_Counts.csv $PUIDATA"
   ]
  },
  {
   "cell_type": "code",
   "execution_count": 5,
   "metadata": {},
   "outputs": [
    {
     "name": "stdout",
     "output_type": "stream",
     "text": [
      "Assignment 2: Read CSV files with pandas and ise NYC open data portal.ipynb\r\n",
      "gitesthaoming\r\n",
      "Traffic_Volume_Counts.csv\r\n"
     ]
    }
   ],
   "source": [
    "!ls $PUIDATA"
   ]
  },
  {
   "cell_type": "code",
   "execution_count": 6,
   "metadata": {},
   "outputs": [],
   "source": [
    "import pandas as pd\n",
    "dhs = pd.read_csv(\"%s/Traffic_Volume_Counts.csv\"%os.getenv(\"PUIDATA\"))"
   ]
  },
  {
   "cell_type": "code",
   "execution_count": 7,
   "metadata": {},
   "outputs": [
    {
     "data": {
      "text/html": [
       "<div>\n",
       "<table border=\"1\" class=\"dataframe\">\n",
       "  <thead>\n",
       "    <tr style=\"text-align: right;\">\n",
       "      <th></th>\n",
       "      <th>ID</th>\n",
       "      <th>Segment ID</th>\n",
       "      <th>Roadway Name</th>\n",
       "      <th>From</th>\n",
       "      <th>To</th>\n",
       "      <th>Direction</th>\n",
       "      <th>Date</th>\n",
       "      <th>12:00-1:00 AM</th>\n",
       "      <th>1:00-2:00AM</th>\n",
       "      <th>2:00-3:00AM</th>\n",
       "      <th>...</th>\n",
       "      <th>2:00-3:00PM</th>\n",
       "      <th>3:00-4:00PM</th>\n",
       "      <th>4:00-5:00PM</th>\n",
       "      <th>5:00-6:00PM</th>\n",
       "      <th>6:00-7:00PM</th>\n",
       "      <th>7:00-8:00PM</th>\n",
       "      <th>8:00-9:00PM</th>\n",
       "      <th>9:00-10:00PM</th>\n",
       "      <th>10:00-11:00PM</th>\n",
       "      <th>11:00-12:00AM</th>\n",
       "    </tr>\n",
       "  </thead>\n",
       "  <tbody>\n",
       "    <tr>\n",
       "      <th>0</th>\n",
       "      <td>1</td>\n",
       "      <td>2153</td>\n",
       "      <td>HUGUENOT AVE</td>\n",
       "      <td>WOODROW RD</td>\n",
       "      <td>STAFFORD AVE</td>\n",
       "      <td>NB</td>\n",
       "      <td>02/02/2013</td>\n",
       "      <td>106</td>\n",
       "      <td>74</td>\n",
       "      <td>45.0</td>\n",
       "      <td>...</td>\n",
       "      <td>371</td>\n",
       "      <td>398</td>\n",
       "      <td>324</td>\n",
       "      <td>394</td>\n",
       "      <td>379</td>\n",
       "      <td>329</td>\n",
       "      <td>249</td>\n",
       "      <td>197</td>\n",
       "      <td>187</td>\n",
       "      <td>169</td>\n",
       "    </tr>\n",
       "    <tr>\n",
       "      <th>1</th>\n",
       "      <td>1</td>\n",
       "      <td>2153</td>\n",
       "      <td>HUGUENOT AVE</td>\n",
       "      <td>WOODROW RD</td>\n",
       "      <td>STAFFORD AVE</td>\n",
       "      <td>NB</td>\n",
       "      <td>02/03/2013</td>\n",
       "      <td>109</td>\n",
       "      <td>74</td>\n",
       "      <td>55.0</td>\n",
       "      <td>...</td>\n",
       "      <td>308</td>\n",
       "      <td>291</td>\n",
       "      <td>313</td>\n",
       "      <td>253</td>\n",
       "      <td>242</td>\n",
       "      <td>217</td>\n",
       "      <td>210</td>\n",
       "      <td>144</td>\n",
       "      <td>125</td>\n",
       "      <td>79</td>\n",
       "    </tr>\n",
       "    <tr>\n",
       "      <th>2</th>\n",
       "      <td>1</td>\n",
       "      <td>2153</td>\n",
       "      <td>HUGUENOT AVE</td>\n",
       "      <td>WOODROW RD</td>\n",
       "      <td>STAFFORD AVE</td>\n",
       "      <td>NB</td>\n",
       "      <td>02/04/2013</td>\n",
       "      <td>36</td>\n",
       "      <td>28</td>\n",
       "      <td>11.0</td>\n",
       "      <td>...</td>\n",
       "      <td>426</td>\n",
       "      <td>425</td>\n",
       "      <td>419</td>\n",
       "      <td>469</td>\n",
       "      <td>425</td>\n",
       "      <td>358</td>\n",
       "      <td>224</td>\n",
       "      <td>185</td>\n",
       "      <td>132</td>\n",
       "      <td>74</td>\n",
       "    </tr>\n",
       "    <tr>\n",
       "      <th>3</th>\n",
       "      <td>1</td>\n",
       "      <td>2153</td>\n",
       "      <td>HUGUENOT AVE</td>\n",
       "      <td>WOODROW RD</td>\n",
       "      <td>STAFFORD AVE</td>\n",
       "      <td>NB</td>\n",
       "      <td>02/05/2013</td>\n",
       "      <td>42</td>\n",
       "      <td>28</td>\n",
       "      <td>16.0</td>\n",
       "      <td>...</td>\n",
       "      <td>393</td>\n",
       "      <td>479</td>\n",
       "      <td>441</td>\n",
       "      <td>476</td>\n",
       "      <td>446</td>\n",
       "      <td>424</td>\n",
       "      <td>305</td>\n",
       "      <td>219</td>\n",
       "      <td>171</td>\n",
       "      <td>76</td>\n",
       "    </tr>\n",
       "    <tr>\n",
       "      <th>4</th>\n",
       "      <td>1</td>\n",
       "      <td>2153</td>\n",
       "      <td>HUGUENOT AVE</td>\n",
       "      <td>WOODROW RD</td>\n",
       "      <td>STAFFORD AVE</td>\n",
       "      <td>NB</td>\n",
       "      <td>02/06/2013</td>\n",
       "      <td>35</td>\n",
       "      <td>38</td>\n",
       "      <td>12.0</td>\n",
       "      <td>...</td>\n",
       "      <td>383</td>\n",
       "      <td>384</td>\n",
       "      <td>391</td>\n",
       "      <td>369</td>\n",
       "      <td>401</td>\n",
       "      <td>338</td>\n",
       "      <td>236</td>\n",
       "      <td>186</td>\n",
       "      <td>123</td>\n",
       "      <td>76</td>\n",
       "    </tr>\n",
       "    <tr>\n",
       "      <th>5</th>\n",
       "      <td>1</td>\n",
       "      <td>2153</td>\n",
       "      <td>HUGUENOT AVE</td>\n",
       "      <td>WOODROW RD</td>\n",
       "      <td>STAFFORD AVE</td>\n",
       "      <td>NB</td>\n",
       "      <td>02/07/2013</td>\n",
       "      <td>33</td>\n",
       "      <td>26</td>\n",
       "      <td>14.0</td>\n",
       "      <td>...</td>\n",
       "      <td>151</td>\n",
       "      <td>409</td>\n",
       "      <td>422</td>\n",
       "      <td>364</td>\n",
       "      <td>356</td>\n",
       "      <td>339</td>\n",
       "      <td>275</td>\n",
       "      <td>225</td>\n",
       "      <td>169</td>\n",
       "      <td>104</td>\n",
       "    </tr>\n",
       "    <tr>\n",
       "      <th>6</th>\n",
       "      <td>1</td>\n",
       "      <td>2153</td>\n",
       "      <td>HUGUENOT AVE</td>\n",
       "      <td>WOODROW RD</td>\n",
       "      <td>STAFFORD AVE</td>\n",
       "      <td>NB</td>\n",
       "      <td>02/08/2013</td>\n",
       "      <td>35</td>\n",
       "      <td>28</td>\n",
       "      <td>18.0</td>\n",
       "      <td>...</td>\n",
       "      <td>430</td>\n",
       "      <td>518</td>\n",
       "      <td>461</td>\n",
       "      <td>485</td>\n",
       "      <td>531</td>\n",
       "      <td>393</td>\n",
       "      <td>351</td>\n",
       "      <td>276</td>\n",
       "      <td>242</td>\n",
       "      <td>154</td>\n",
       "    </tr>\n",
       "  </tbody>\n",
       "</table>\n",
       "<p>7 rows × 31 columns</p>\n",
       "</div>"
      ],
      "text/plain": [
       "   ID  Segment ID  Roadway Name        From            To Direction  \\\n",
       "0   1        2153  HUGUENOT AVE  WOODROW RD  STAFFORD AVE        NB   \n",
       "1   1        2153  HUGUENOT AVE  WOODROW RD  STAFFORD AVE        NB   \n",
       "2   1        2153  HUGUENOT AVE  WOODROW RD  STAFFORD AVE        NB   \n",
       "3   1        2153  HUGUENOT AVE  WOODROW RD  STAFFORD AVE        NB   \n",
       "4   1        2153  HUGUENOT AVE  WOODROW RD  STAFFORD AVE        NB   \n",
       "5   1        2153  HUGUENOT AVE  WOODROW RD  STAFFORD AVE        NB   \n",
       "6   1        2153  HUGUENOT AVE  WOODROW RD  STAFFORD AVE        NB   \n",
       "\n",
       "         Date  12:00-1:00 AM  1:00-2:00AM  2:00-3:00AM      ...        \\\n",
       "0  02/02/2013            106           74         45.0      ...         \n",
       "1  02/03/2013            109           74         55.0      ...         \n",
       "2  02/04/2013             36           28         11.0      ...         \n",
       "3  02/05/2013             42           28         16.0      ...         \n",
       "4  02/06/2013             35           38         12.0      ...         \n",
       "5  02/07/2013             33           26         14.0      ...         \n",
       "6  02/08/2013             35           28         18.0      ...         \n",
       "\n",
       "   2:00-3:00PM  3:00-4:00PM  4:00-5:00PM  5:00-6:00PM  6:00-7:00PM  \\\n",
       "0          371          398          324          394          379   \n",
       "1          308          291          313          253          242   \n",
       "2          426          425          419          469          425   \n",
       "3          393          479          441          476          446   \n",
       "4          383          384          391          369          401   \n",
       "5          151          409          422          364          356   \n",
       "6          430          518          461          485          531   \n",
       "\n",
       "   7:00-8:00PM  8:00-9:00PM  9:00-10:00PM  10:00-11:00PM  11:00-12:00AM  \n",
       "0          329          249           197            187            169  \n",
       "1          217          210           144            125             79  \n",
       "2          358          224           185            132             74  \n",
       "3          424          305           219            171             76  \n",
       "4          338          236           186            123             76  \n",
       "5          339          275           225            169            104  \n",
       "6          393          351           276            242            154  \n",
       "\n",
       "[7 rows x 31 columns]"
      ]
     },
     "execution_count": 7,
     "metadata": {},
     "output_type": "execute_result"
    }
   ],
   "source": [
    "dhs.head(7)"
   ]
  },
  {
   "cell_type": "code",
   "execution_count": 8,
   "metadata": {},
   "outputs": [
    {
     "data": {
      "text/plain": [
       "Index(['ID', 'Segment ID', 'Roadway Name', 'From', 'To', 'Direction', 'Date',\n",
       "       '12:00-1:00 AM', '1:00-2:00AM', '2:00-3:00AM', '3:00-4:00AM',\n",
       "       '4:00-5:00AM', '5:00-6:00AM', '6:00-7:00AM', '7:00-8:00AM',\n",
       "       '8:00-9:00AM', '9:00-10:00AM', '10:00-11:00AM', '11:00-12:00PM',\n",
       "       '12:00-1:00PM', '1:00-2:00PM', '2:00-3:00PM', '3:00-4:00PM',\n",
       "       '4:00-5:00PM', '5:00-6:00PM', '6:00-7:00PM', '7:00-8:00PM',\n",
       "       '8:00-9:00PM', '9:00-10:00PM', '10:00-11:00PM', '11:00-12:00AM'],\n",
       "      dtype='object')"
      ]
     },
     "execution_count": 8,
     "metadata": {},
     "output_type": "execute_result"
    }
   ],
   "source": [
    "dhs.columns"
   ]
  },
  {
   "cell_type": "code",
   "execution_count": 9,
   "metadata": {},
   "outputs": [],
   "source": [
    "dhs_2c=dhs[['8:00-9:00AM','5:00-6:00PM']]"
   ]
  },
  {
   "cell_type": "code",
   "execution_count": 10,
   "metadata": {},
   "outputs": [
    {
     "data": {
      "text/html": [
       "<div>\n",
       "<table border=\"1\" class=\"dataframe\">\n",
       "  <thead>\n",
       "    <tr style=\"text-align: right;\">\n",
       "      <th></th>\n",
       "      <th>8:00-9:00AM</th>\n",
       "      <th>5:00-6:00PM</th>\n",
       "    </tr>\n",
       "  </thead>\n",
       "  <tbody>\n",
       "    <tr>\n",
       "      <th>0</th>\n",
       "      <td>213.0</td>\n",
       "      <td>394</td>\n",
       "    </tr>\n",
       "    <tr>\n",
       "      <th>1</th>\n",
       "      <td>111.0</td>\n",
       "      <td>253</td>\n",
       "    </tr>\n",
       "    <tr>\n",
       "      <th>2</th>\n",
       "      <td>493.0</td>\n",
       "      <td>469</td>\n",
       "    </tr>\n",
       "    <tr>\n",
       "      <th>3</th>\n",
       "      <td>499.0</td>\n",
       "      <td>476</td>\n",
       "    </tr>\n",
       "    <tr>\n",
       "      <th>4</th>\n",
       "      <td>490.0</td>\n",
       "      <td>369</td>\n",
       "    </tr>\n",
       "    <tr>\n",
       "      <th>5</th>\n",
       "      <td>460.0</td>\n",
       "      <td>364</td>\n",
       "    </tr>\n",
       "    <tr>\n",
       "      <th>6</th>\n",
       "      <td>440.0</td>\n",
       "      <td>485</td>\n",
       "    </tr>\n",
       "  </tbody>\n",
       "</table>\n",
       "</div>"
      ],
      "text/plain": [
       "   8:00-9:00AM  5:00-6:00PM\n",
       "0        213.0          394\n",
       "1        111.0          253\n",
       "2        493.0          469\n",
       "3        499.0          476\n",
       "4        490.0          369\n",
       "5        460.0          364\n",
       "6        440.0          485"
      ]
     },
     "execution_count": 10,
     "metadata": {},
     "output_type": "execute_result"
    }
   ],
   "source": [
    "dhs_2c.head(7)"
   ]
  },
  {
   "cell_type": "code",
   "execution_count": 11,
   "metadata": {},
   "outputs": [
    {
     "name": "stdout",
     "output_type": "stream",
     "text": [
      "Populating the interactive namespace from numpy and matplotlib\n"
     ]
    }
   ],
   "source": [
    "%pylab inline"
   ]
  },
  {
   "cell_type": "code",
   "execution_count": 12,
   "metadata": {},
   "outputs": [
    {
     "data": {
      "text/plain": [
       "<matplotlib.axes._subplots.AxesSubplot at 0x7feee63ade80>"
      ]
     },
     "execution_count": 12,
     "metadata": {},
     "output_type": "execute_result"
    },
    {
     "data": {
      "image/png": "[encoded data removed]",
      "text/plain": [
       "<matplotlib.figure.Figure at 0x7feee63ad780>"
      ]
     },
     "metadata": {},
     "output_type": "display_data"
    }
   ],
   "source": [
    "dhs_2c.plot(x=\"8:00-9:00AM\", y=\"5:00-6:00PM\",kind='scatter',title='Volumn trend between early peak and evening peak')"
   ]
  },
  {
   "cell_type": "markdown",
   "metadata": {},
   "source": [
    "### Figure 1:\n",
    "Traffic volumn of early peak against evening peak in NYC between 2012-2013. The data was collected by DOT for New York Metropolitan Transportation Council (NYMTC).The figure shows a strong correlation between volumns between 8:00-9:00AM and 5:00-6:00Pm"
   ]
  },
  {
   "cell_type": "markdown",
   "metadata": {},
   "source": [
    "## Extra Credit Assignment : work with and APIs and dates in Pandas"
   ]
  },
  {
   "cell_type": "markdown",
   "metadata": {},
   "source": [
    "Using the same dataset but from SODA API"
   ]
  },
  {
   "cell_type": "code",
   "execution_count": 13,
   "metadata": {},
   "outputs": [],
   "source": [
    "url=\"https://data.cityofnewyork.us/resource/ry4b-kref.json\""
   ]
  },
  {
   "cell_type": "code",
   "execution_count": 14,
   "metadata": {},
   "outputs": [],
   "source": [
    "df = pd.read_json(url)"
   ]
  },
  {
   "cell_type": "code",
   "execution_count": 15,
   "metadata": {},
   "outputs": [
    {
     "data": {
      "text/html": [
       "<div>\n",
       "<table border=\"1\" class=\"dataframe\">\n",
       "  <thead>\n",
       "    <tr style=\"text-align: right;\">\n",
       "      <th></th>\n",
       "      <th>_10_00_11_00am</th>\n",
       "      <th>_10_00_11_00pm</th>\n",
       "      <th>_11_00_12_00am</th>\n",
       "      <th>_11_00_12_00pm</th>\n",
       "      <th>_12_00_1_00_am</th>\n",
       "      <th>_12_00_1_00pm</th>\n",
       "      <th>_1_00_2_00am</th>\n",
       "      <th>_1_00_2_00pm</th>\n",
       "      <th>_2_00_3_00am</th>\n",
       "      <th>_2_00_3_00pm</th>\n",
       "      <th>...</th>\n",
       "      <th>_8_00_9_00pm</th>\n",
       "      <th>_9_00_10_00am</th>\n",
       "      <th>_9_00_10_00pm</th>\n",
       "      <th>date</th>\n",
       "      <th>direction</th>\n",
       "      <th>from</th>\n",
       "      <th>id</th>\n",
       "      <th>roadway_name</th>\n",
       "      <th>segment_id</th>\n",
       "      <th>to</th>\n",
       "    </tr>\n",
       "  </thead>\n",
       "  <tbody>\n",
       "    <tr>\n",
       "      <th>0</th>\n",
       "      <td>387</td>\n",
       "      <td>187</td>\n",
       "      <td>169</td>\n",
       "      <td>335</td>\n",
       "      <td>106</td>\n",
       "      <td>406</td>\n",
       "      <td>74</td>\n",
       "      <td>411</td>\n",
       "      <td>45</td>\n",
       "      <td>371</td>\n",
       "      <td>...</td>\n",
       "      <td>249</td>\n",
       "      <td>278</td>\n",
       "      <td>197</td>\n",
       "      <td>2013-02-02</td>\n",
       "      <td>NB</td>\n",
       "      <td>WOODROW RD</td>\n",
       "      <td>1</td>\n",
       "      <td>HUGUENOT AVE</td>\n",
       "      <td>2153</td>\n",
       "      <td>STAFFORD AVE</td>\n",
       "    </tr>\n",
       "    <tr>\n",
       "      <th>1</th>\n",
       "      <td>249</td>\n",
       "      <td>125</td>\n",
       "      <td>79</td>\n",
       "      <td>351</td>\n",
       "      <td>109</td>\n",
       "      <td>374</td>\n",
       "      <td>74</td>\n",
       "      <td>350</td>\n",
       "      <td>55</td>\n",
       "      <td>308</td>\n",
       "      <td>...</td>\n",
       "      <td>210</td>\n",
       "      <td>204</td>\n",
       "      <td>144</td>\n",
       "      <td>2013-02-03</td>\n",
       "      <td>NB</td>\n",
       "      <td>WOODROW RD</td>\n",
       "      <td>1</td>\n",
       "      <td>HUGUENOT AVE</td>\n",
       "      <td>2153</td>\n",
       "      <td>STAFFORD AVE</td>\n",
       "    </tr>\n",
       "    <tr>\n",
       "      <th>2</th>\n",
       "      <td>282</td>\n",
       "      <td>132</td>\n",
       "      <td>74</td>\n",
       "      <td>307</td>\n",
       "      <td>36</td>\n",
       "      <td>304</td>\n",
       "      <td>28</td>\n",
       "      <td>328</td>\n",
       "      <td>11</td>\n",
       "      <td>426</td>\n",
       "      <td>...</td>\n",
       "      <td>224</td>\n",
       "      <td>263</td>\n",
       "      <td>185</td>\n",
       "      <td>2013-02-04</td>\n",
       "      <td>NB</td>\n",
       "      <td>WOODROW RD</td>\n",
       "      <td>1</td>\n",
       "      <td>HUGUENOT AVE</td>\n",
       "      <td>2153</td>\n",
       "      <td>STAFFORD AVE</td>\n",
       "    </tr>\n",
       "    <tr>\n",
       "      <th>3</th>\n",
       "      <td>255</td>\n",
       "      <td>171</td>\n",
       "      <td>76</td>\n",
       "      <td>294</td>\n",
       "      <td>42</td>\n",
       "      <td>310</td>\n",
       "      <td>28</td>\n",
       "      <td>382</td>\n",
       "      <td>16</td>\n",
       "      <td>393</td>\n",
       "      <td>...</td>\n",
       "      <td>305</td>\n",
       "      <td>241</td>\n",
       "      <td>219</td>\n",
       "      <td>2013-02-05</td>\n",
       "      <td>NB</td>\n",
       "      <td>WOODROW RD</td>\n",
       "      <td>1</td>\n",
       "      <td>HUGUENOT AVE</td>\n",
       "      <td>2153</td>\n",
       "      <td>STAFFORD AVE</td>\n",
       "    </tr>\n",
       "    <tr>\n",
       "      <th>4</th>\n",
       "      <td>260</td>\n",
       "      <td>123</td>\n",
       "      <td>76</td>\n",
       "      <td>283</td>\n",
       "      <td>35</td>\n",
       "      <td>334</td>\n",
       "      <td>38</td>\n",
       "      <td>324</td>\n",
       "      <td>12</td>\n",
       "      <td>383</td>\n",
       "      <td>...</td>\n",
       "      <td>236</td>\n",
       "      <td>297</td>\n",
       "      <td>186</td>\n",
       "      <td>2013-02-06</td>\n",
       "      <td>NB</td>\n",
       "      <td>WOODROW RD</td>\n",
       "      <td>1</td>\n",
       "      <td>HUGUENOT AVE</td>\n",
       "      <td>2153</td>\n",
       "      <td>STAFFORD AVE</td>\n",
       "    </tr>\n",
       "    <tr>\n",
       "      <th>5</th>\n",
       "      <td>215</td>\n",
       "      <td>169</td>\n",
       "      <td>104</td>\n",
       "      <td>263</td>\n",
       "      <td>33</td>\n",
       "      <td>254</td>\n",
       "      <td>26</td>\n",
       "      <td>303</td>\n",
       "      <td>14</td>\n",
       "      <td>151</td>\n",
       "      <td>...</td>\n",
       "      <td>275</td>\n",
       "      <td>273</td>\n",
       "      <td>225</td>\n",
       "      <td>2013-02-07</td>\n",
       "      <td>NB</td>\n",
       "      <td>WOODROW RD</td>\n",
       "      <td>1</td>\n",
       "      <td>HUGUENOT AVE</td>\n",
       "      <td>2153</td>\n",
       "      <td>STAFFORD AVE</td>\n",
       "    </tr>\n",
       "    <tr>\n",
       "      <th>6</th>\n",
       "      <td>236</td>\n",
       "      <td>242</td>\n",
       "      <td>154</td>\n",
       "      <td>282</td>\n",
       "      <td>35</td>\n",
       "      <td>343</td>\n",
       "      <td>28</td>\n",
       "      <td>353</td>\n",
       "      <td>18</td>\n",
       "      <td>430</td>\n",
       "      <td>...</td>\n",
       "      <td>351</td>\n",
       "      <td>290</td>\n",
       "      <td>276</td>\n",
       "      <td>2013-02-08</td>\n",
       "      <td>NB</td>\n",
       "      <td>WOODROW RD</td>\n",
       "      <td>1</td>\n",
       "      <td>HUGUENOT AVE</td>\n",
       "      <td>2153</td>\n",
       "      <td>STAFFORD AVE</td>\n",
       "    </tr>\n",
       "    <tr>\n",
       "      <th>7</th>\n",
       "      <td>395</td>\n",
       "      <td>191</td>\n",
       "      <td>174</td>\n",
       "      <td>342</td>\n",
       "      <td>110</td>\n",
       "      <td>414</td>\n",
       "      <td>73</td>\n",
       "      <td>419</td>\n",
       "      <td>46</td>\n",
       "      <td>379</td>\n",
       "      <td>...</td>\n",
       "      <td>254</td>\n",
       "      <td>283</td>\n",
       "      <td>201</td>\n",
       "      <td>2013-02-09</td>\n",
       "      <td>NB</td>\n",
       "      <td>WOODROW RD</td>\n",
       "      <td>1</td>\n",
       "      <td>HUGUENOT AVE</td>\n",
       "      <td>2153</td>\n",
       "      <td>STAFFORD AVE</td>\n",
       "    </tr>\n",
       "  </tbody>\n",
       "</table>\n",
       "<p>8 rows × 31 columns</p>\n",
       "</div>"
      ],
      "text/plain": [
       "   _10_00_11_00am  _10_00_11_00pm  _11_00_12_00am  _11_00_12_00pm  \\\n",
       "0             387             187             169             335   \n",
       "1             249             125              79             351   \n",
       "2             282             132              74             307   \n",
       "3             255             171              76             294   \n",
       "4             260             123              76             283   \n",
       "5             215             169             104             263   \n",
       "6             236             242             154             282   \n",
       "7             395             191             174             342   \n",
       "\n",
       "   _12_00_1_00_am  _12_00_1_00pm  _1_00_2_00am  _1_00_2_00pm  _2_00_3_00am  \\\n",
       "0             106            406            74           411            45   \n",
       "1             109            374            74           350            55   \n",
       "2              36            304            28           328            11   \n",
       "3              42            310            28           382            16   \n",
       "4              35            334            38           324            12   \n",
       "5              33            254            26           303            14   \n",
       "6              35            343            28           353            18   \n",
       "7             110            414            73           419            46   \n",
       "\n",
       "   _2_00_3_00pm      ...       _8_00_9_00pm  _9_00_10_00am  _9_00_10_00pm  \\\n",
       "0           371      ...                249            278            197   \n",
       "1           308      ...                210            204            144   \n",
       "2           426      ...                224            263            185   \n",
       "3           393      ...                305            241            219   \n",
       "4           383      ...                236            297            186   \n",
       "5           151      ...                275            273            225   \n",
       "6           430      ...                351            290            276   \n",
       "7           379      ...                254            283            201   \n",
       "\n",
       "        date  direction        from  id  roadway_name  segment_id  \\\n",
       "0 2013-02-02         NB  WOODROW RD   1  HUGUENOT AVE        2153   \n",
       "1 2013-02-03         NB  WOODROW RD   1  HUGUENOT AVE        2153   \n",
       "2 2013-02-04         NB  WOODROW RD   1  HUGUENOT AVE        2153   \n",
       "3 2013-02-05         NB  WOODROW RD   1  HUGUENOT AVE        2153   \n",
       "4 2013-02-06         NB  WOODROW RD   1  HUGUENOT AVE        2153   \n",
       "5 2013-02-07         NB  WOODROW RD   1  HUGUENOT AVE        2153   \n",
       "6 2013-02-08         NB  WOODROW RD   1  HUGUENOT AVE        2153   \n",
       "7 2013-02-09         NB  WOODROW RD   1  HUGUENOT AVE        2153   \n",
       "\n",
       "             to  \n",
       "0  STAFFORD AVE  \n",
       "1  STAFFORD AVE  \n",
       "2  STAFFORD AVE  \n",
       "3  STAFFORD AVE  \n",
       "4  STAFFORD AVE  \n",
       "5  STAFFORD AVE  \n",
       "6  STAFFORD AVE  \n",
       "7  STAFFORD AVE  \n",
       "\n",
       "[8 rows x 31 columns]"
      ]
     },
     "execution_count": 15,
     "metadata": {},
     "output_type": "execute_result"
    }
   ],
   "source": [
    "df.head(8)"
   ]
  },
  {
   "cell_type": "code",
   "execution_count": 16,
   "metadata": {},
   "outputs": [
    {
     "data": {
      "text/plain": [
       "Index(['_10_00_11_00am', '_10_00_11_00pm', '_11_00_12_00am', '_11_00_12_00pm',\n",
       "       '_12_00_1_00_am', '_12_00_1_00pm', '_1_00_2_00am', '_1_00_2_00pm',\n",
       "       '_2_00_3_00am', '_2_00_3_00pm', '_3_00_4_00am', '_3_00_4_00pm',\n",
       "       '_4_00_5_00am', '_4_00_5_00pm', '_5_00_6_00am', '_5_00_6_00pm',\n",
       "       '_6_00_7_00am', '_6_00_7_00pm', '_7_00_8_00am', '_7_00_8_00pm',\n",
       "       '_8_00_9_00am', '_8_00_9_00pm', '_9_00_10_00am', '_9_00_10_00pm',\n",
       "       'date', 'direction', 'from', 'id', 'roadway_name', 'segment_id', 'to'],\n",
       "      dtype='object')"
      ]
     },
     "execution_count": 16,
     "metadata": {},
     "output_type": "execute_result"
    }
   ],
   "source": [
    "df.columns"
   ]
  },
  {
   "cell_type": "code",
   "execution_count": 17,
   "metadata": {},
   "outputs": [],
   "source": [
    "df_2c=df[['_8_00_9_00am','date','_5_00_6_00am']]"
   ]
  },
  {
   "cell_type": "code",
   "execution_count": 18,
   "metadata": {},
   "outputs": [
    {
     "name": "stderr",
     "output_type": "stream",
     "text": [
      "/usr/local/Anaconda3-5.0.0-Linux-x86_64/envs/PUI2016_Python3/lib/python3.5/site-packages/pandas/core/frame.py:2754: SettingWithCopyWarning: \n",
      "A value is trying to be set on a copy of a slice from a DataFrame\n",
      "\n",
      "See the caveats in the documentation: http://pandas.pydata.org/pandas-docs/stable/indexing.html#indexing-view-versus-copy\n",
      "  **kwargs)\n"
     ]
    }
   ],
   "source": [
    "df_2c.rename(columns = {'date':'Date', \n",
    "               '_8_00_9_00am':'8:00-9:00AM',\n",
    "                       '_5_00_6_00am':\"5:00-6:00PM\"}, inplace=True)"
   ]
  },
  {
   "cell_type": "code",
   "execution_count": 19,
   "metadata": {},
   "outputs": [
    {
     "name": "stderr",
     "output_type": "stream",
     "text": [
      "/usr/local/Anaconda3-5.0.0-Linux-x86_64/envs/PUI2016_Python3/lib/python3.5/site-packages/ipykernel/__main__.py:1: SettingWithCopyWarning: \n",
      "A value is trying to be set on a copy of a slice from a DataFrame.\n",
      "Try using .loc[row_indexer,col_indexer] = value instead\n",
      "\n",
      "See the caveats in the documentation: http://pandas.pydata.org/pandas-docs/stable/indexing.html#indexing-view-versus-copy\n",
      "  if __name__ == '__main__':\n"
     ]
    }
   ],
   "source": [
    "df_2c[\"Date\"] = df_2c[\"Date\"].apply(lambda x: pd.Timestamp(x))"
   ]
  },
  {
   "cell_type": "code",
   "execution_count": 20,
   "metadata": {},
   "outputs": [
    {
     "data": {
      "text/plain": [
       "Text(0,0.5,'Volumn')"
      ]
     },
     "execution_count": 20,
     "metadata": {},
     "output_type": "execute_result"
    },
    {
     "data": {
      "image/png": "[encoded data removed]",
      "text/plain": [
       "<matplotlib.figure.Figure at 0x7feee631aa20>"
      ]
     },
     "metadata": {},
     "output_type": "display_data"
    },
    {
     "data": {
      "image/png": "[encoded data removed]",
      "text/plain": [
       "<matplotlib.figure.Figure at 0x7feee6307320>"
      ]
     },
     "metadata": {},
     "output_type": "display_data"
    }
   ],
   "source": [
    "ax1 = df_2c.plot(x='Date', y='5:00-6:00PM',title='Figure2 :evening peak time series plot')\n",
    "ax1.set_ylabel(\"Volumn\")\n",
    "ax2 = df_2c.plot(x='Date', y='8:00-9:00AM',title='Figure3 :early peak time series plot')\n",
    "ax2.set_ylabel(\"Volumn\")"
   ]
  },
  {
   "cell_type": "markdown",
   "metadata": {},
   "source": [
    "### Figure 2&3:\n",
    "The traffic volumns of 5-6:00PM and 8-9:00AM seems has the same trend arcoss time. What is noticable is the flat line between around 2012-10-26 to 2013-02-01 showing that both early peak and envening peark are low and did not drift like before. This may be caused by missing value for it is unlikely to see the traffic volumn in a city has this status."
   ]
  }
 ],
 "metadata": {
  "kernelspec": {
   "display_name": "PUI2016_Python3",
   "language": "python",
   "name": "pui2016_python3"
  },
  "language_info": {
   "codemirror_mode": {
    "name": "ipython",
    "version": 3
   },
   "file_extension": ".py",
   "mimetype": "text/x-python",
   "name": "python",
   "nbconvert_exporter": "python",
   "pygments_lexer": "ipython3",
   "version": "3.5.4"
  }
 },
 "nbformat": 4,
 "nbformat_minor": 2
}
